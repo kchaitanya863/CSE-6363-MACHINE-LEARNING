{
  "nbformat": 4,
  "nbformat_minor": 0,
  "metadata": {
    "colab": {
      "name": "ML HW2 Q1.ipynb",
      "provenance": [],
      "collapsed_sections": []
    },
    "kernelspec": {
      "name": "python3",
      "display_name": "Python 3"
    }
  },
  "cells": [
    {
      "cell_type": "code",
      "metadata": {
        "id": "ROIPbw4iYu-j"
      },
      "source": [
        "def compute_confusion_matrix(true, pred):\n",
        "  K = len(np.unique(true)) # Number of classes \n",
        "  result = np.zeros((K, K))\n",
        "\n",
        "  for i in range(len(true)):\n",
        "    result[true[i]][pred[i]] += 1\n",
        "\n",
        "  return result"
      ],
      "execution_count": null,
      "outputs": []
    },
    {
      "cell_type": "code",
      "metadata": {
        "id": "gEUv7s2N_-vx"
      },
      "source": [
        "def accuracy(y_true,y_pred):\n",
        "  accuracy=np.sum(y_true==y_pred) / len(y_true)\n",
        "  return accuracy"
      ],
      "execution_count": null,
      "outputs": []
    },
    {
      "cell_type": "code",
      "metadata": {
        "id": "a-rTfF9HGyW2"
      },
      "source": [
        "import numpy as np\n",
        "\n",
        "class LogisticRegression:\n",
        "\n",
        "    def __init__(self, learning_rate=0.001, n_iters=10000):\n",
        "        self.lr = learning_rate\n",
        "        self.n_iters = n_iters\n",
        "        self.weights = None\n",
        "        self.bias = None\n",
        "\n",
        "    def fit(self, X, y):\n",
        "        n_samples, n_features = X.shape\n",
        "\n",
        "        # init parameters\n",
        "        self.weights = np.zeros(n_features)\n",
        "        self.bias = 0\n",
        "\n",
        "        # gradient descent\n",
        "        old_dw = None\n",
        "        old_db = None\n",
        "        for _ in range(self.n_iters):\n",
        "            # approximate y with linear combination of weights and x, plus bias\n",
        "            linear_model = np.dot(X, self.weights) + self.bias\n",
        "            # apply sigmoid function\n",
        "            y_predicted = self._sigmoid(linear_model)\n",
        "\n",
        "            # compute gradients\n",
        "            dw = (1 / n_samples) * np.dot(X.T, (y_predicted - y))\n",
        "            db = (1 / n_samples) * np.sum(y_predicted - y)\n",
        "            if np.array_equal(dw,old_dw) and old_db == db:\n",
        "              break\n",
        "            # update parameters\n",
        "            self.weights -= self.lr * dw\n",
        "            self.bias -= self.lr * db\n",
        "            old_dw = dw\n",
        "            old_db = db\n",
        "        print(\"Iterations : \", _)\n",
        "\n",
        "    def predict(self, X):\n",
        "        linear_model = np.dot(X, self.weights) + self.bias\n",
        "        y_predicted = self._sigmoid(linear_model)\n",
        "        y_predicted_cls = [1 if i > 0.5 else 0 for i in y_predicted]\n",
        "        return np.array(y_predicted_cls)\n",
        "\n",
        "    def _sigmoid(self, x):\n",
        "        return 1 / (1 + np.exp(-x))"
      ],
      "execution_count": null,
      "outputs": []
    },
    {
      "cell_type": "code",
      "metadata": {
        "id": "JRlvKExD4_b_",
        "outputId": "7319f324-e20f-487a-d14c-5353ddeaddd8",
        "colab": {
          "base_uri": "https://localhost:8080/"
        }
      },
      "source": [
        "# regressor=LogisticRegression(lr=0.001,n_iters=1000)\n",
        "m1 = [1,0]\n",
        "sig1 = [[1,0.75],[0.75,1]]\n",
        "m2 = [0,1]\n",
        "sig2 = [[1,-0.5],[0.5,1]]\n",
        "\n",
        "\n",
        "X_train = np.append(np.random.multivariate_normal(m1,sig1, 500), np.random.multivariate_normal(m2,sig2, 500), axis=0)\n",
        "Y_train = [0]*500 + [1]*500\n",
        "X_test = np.append(np.random.multivariate_normal(m1,sig1, 500), np.random.multivariate_normal(m2,sig2, 500), axis=0)\n",
        "Y_test = [0]*500 + [1]*500"
      ],
      "execution_count": null,
      "outputs": [
        {
          "output_type": "stream",
          "text": [
            "/usr/local/lib/python3.6/dist-packages/ipykernel_launcher.py:8: RuntimeWarning: covariance is not positive-semidefinite.\n",
            "  \n",
            "/usr/local/lib/python3.6/dist-packages/ipykernel_launcher.py:10: RuntimeWarning: covariance is not positive-semidefinite.\n",
            "  # Remove the CWD from sys.path while we load stuff.\n"
          ],
          "name": "stderr"
        }
      ]
    },
    {
      "cell_type": "code",
      "metadata": {
        "id": "iiqJzgb6OjQ3"
      },
      "source": [
        "from sklearn.linear_model import LogisticRegression as LR\n",
        "clf = LR(random_state=0).fit(X_train, Y_train)\n",
        "pred = clf.predict(X_test)\n",
        "tpr = []\n",
        "fpr = []"
      ],
      "execution_count": null,
      "outputs": []
    },
    {
      "cell_type": "code",
      "metadata": {
        "id": "m-0GU5yHx8Nj",
        "outputId": "f8c0dd4e-14f6-4ea6-8cf7-17ef7b733b60",
        "colab": {
          "base_uri": "https://localhost:8080/"
        }
      },
      "source": [
        "regressor = LogisticRegression(learning_rate=0.0001)\n",
        "regressor.fit(X = X_train,y = Y_train)\n",
        "predictions= regressor.predict(X_test)\n",
        "print(\"accuracy :\" , accuracy(Y_test,predictions))\n",
        "cm = compute_confusion_matrix(Y_test, predictions)\n",
        "tp = cm[0][0] / (cm[0][0] + cm[1][0])\n",
        "fp = cm[0][1] / (cm[1][0] + cm[1][1])\n",
        "tpr.append(tp)\n",
        "fpr.append(fp)"
      ],
      "execution_count": null,
      "outputs": [
        {
          "output_type": "stream",
          "text": [
            "Iterations :  9999\n",
            "accuracy : 0.835\n"
          ],
          "name": "stdout"
        }
      ]
    },
    {
      "cell_type": "code",
      "metadata": {
        "id": "koGv33dEHtik",
        "outputId": "c7e2a470-257c-45fe-bd7f-80b43a464aba",
        "colab": {
          "base_uri": "https://localhost:8080/"
        }
      },
      "source": [
        "regressor = LogisticRegression(learning_rate=0.001)\n",
        "regressor.fit(X = X_train,y = Y_train)\n",
        "predictions= regressor.predict(X_test)\n",
        "print(\"accuracy :\" , accuracy(Y_test,predictions))\n",
        "cm = compute_confusion_matrix(Y_test, predictions)\n",
        "tp = cm[0][0] / (cm[0][0] + cm[1][0])\n",
        "fp = cm[0][1] / (cm[1][0] + cm[1][1])\n",
        "tpr.append(tp)\n",
        "fpr.append(fp)"
      ],
      "execution_count": null,
      "outputs": [
        {
          "output_type": "stream",
          "text": [
            "Iterations :  9999\n",
            "accuracy : 0.834\n"
          ],
          "name": "stdout"
        }
      ]
    },
    {
      "cell_type": "code",
      "metadata": {
        "id": "Q9VWscGuHt9B",
        "outputId": "a1b941b9-4330-4ec2-a49c-f8bcdfe07cf7",
        "colab": {
          "base_uri": "https://localhost:8080/"
        }
      },
      "source": [
        "regressor = LogisticRegression(learning_rate=0.01)\n",
        "regressor.fit(X = X_train,y = Y_train)\n",
        "predictions= regressor.predict(X_test)\n",
        "print(\"accuracy :\" , accuracy(Y_test,predictions))\n",
        "cm = compute_confusion_matrix(Y_test, predictions)\n",
        "tp = cm[0][0] / (cm[0][0] + cm[1][0])\n",
        "fp = cm[0][1] / (cm[1][0] + cm[1][1])\n",
        "tpr.append(tp)\n",
        "fpr.append(fp)"
      ],
      "execution_count": null,
      "outputs": [
        {
          "output_type": "stream",
          "text": [
            "Iterations :  9999\n",
            "accuracy : 0.834\n"
          ],
          "name": "stdout"
        }
      ]
    },
    {
      "cell_type": "code",
      "metadata": {
        "id": "gKfRRWMxHuf5",
        "outputId": "ac816188-73f6-47ae-e6bb-89669d20c938",
        "colab": {
          "base_uri": "https://localhost:8080/"
        }
      },
      "source": [
        "regressor = LogisticRegression(learning_rate=0.1)\n",
        "regressor.fit(X = X_train,y = Y_train)\n",
        "predictions= regressor.predict(X_test)\n",
        "print(\"accuracy :\" , accuracy(Y_test,predictions))\n",
        "cm = compute_confusion_matrix(Y_test, predictions)\n",
        "tp = cm[0][0] / (cm[0][0] + cm[1][0])\n",
        "fp = cm[0][1] / (cm[1][0] + cm[1][1])\n",
        "tpr.append(tp)\n",
        "fpr.append(fp)"
      ],
      "execution_count": null,
      "outputs": [
        {
          "output_type": "stream",
          "text": [
            "Iterations :  7780\n",
            "accuracy : 0.833\n"
          ],
          "name": "stdout"
        }
      ]
    },
    {
      "cell_type": "code",
      "metadata": {
        "id": "qBOsfF-fH0rC",
        "outputId": "300bbc0d-05f2-474e-8b00-dd588940b26c",
        "colab": {
          "base_uri": "https://localhost:8080/"
        }
      },
      "source": [
        "regressor = LogisticRegression(learning_rate=1)\n",
        "regressor.fit(X = X_train,y = Y_train)\n",
        "predictions= regressor.predict(X_test)\n",
        "print(\"accuracy :\" , accuracy(Y_test,predictions))\n",
        "cm = compute_confusion_matrix(Y_test, predictions)\n",
        "tp = cm[0][0] / (cm[0][0] + cm[1][0])\n",
        "fp = cm[0][1] / (cm[1][0] + cm[1][1])\n",
        "tpr.append(tp)\n",
        "fpr.append(fp)"
      ],
      "execution_count": null,
      "outputs": [
        {
          "output_type": "stream",
          "text": [
            "Iterations :  831\n",
            "accuracy : 0.833\n"
          ],
          "name": "stdout"
        }
      ]
    },
    {
      "cell_type": "code",
      "metadata": {
        "id": "E3VW7auKLb9y",
        "outputId": "89eabdb4-8c34-4aa1-958d-0b599180eded",
        "colab": {
          "base_uri": "https://localhost:8080/",
          "height": 282
        }
      },
      "source": [
        "import matplotlib.pyplot as plt\n",
        "import numpy as np\n",
        "\n",
        "x = fpr # false_positive_rate\n",
        "y = tpr # true_positive_rate \n",
        "\n",
        "# This is the ROC curve\n",
        "plt.plot(x,y)\n",
        "plt.show() \n",
        "\n",
        "# This is the AUC\n",
        "auc = np.trapz(y,x)\n",
        "print(\"Area under curve:\", auc)"
      ],
      "execution_count": null,
      "outputs": [
        {
          "output_type": "display_data",
          "data": {
            "image/png": "[encoded data removed]",
            "text/plain": [
              "<Figure size 432x288 with 1 Axes>"
            ]
          },
          "metadata": {
            "tags": [],
            "needs_background": "light"
          }
        },
        {
          "output_type": "stream",
          "text": [
            "Area under curve: 0.034953083446696925\n"
          ],
          "name": "stdout"
        }
      ]
    }
  ]
}