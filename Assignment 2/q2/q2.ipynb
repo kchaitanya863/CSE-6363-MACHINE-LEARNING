{
  "nbformat": 4,
  "nbformat_minor": 0,
  "metadata": {
    "colab": {
      "name": "multi class logistic regression Q2.ipynb",
      "provenance": [],
      "collapsed_sections": []
    },
    "kernelspec": {
      "display_name": "Python 3",
      "name": "python3"
    }
  },
  "cells": [
    {
      "cell_type": "code",
      "metadata": {
        "id": "DZacRtC_OUPq",
        "outputId": "b18d6481-4f2f-4fcf-b114-f602229b8190",
        "colab": {
          "base_uri": "https://localhost:8080/"
        }
      },
      "source": [
        "!pip install mxnet"
      ],
      "execution_count": 1,
      "outputs": [
        {
          "output_type": "stream",
          "text": [
            "Requirement already satisfied: mxnet in /usr/local/lib/python3.6/dist-packages (1.7.0.post1)\n",
            "Requirement already satisfied: numpy<2.0.0,>1.16.0 in /usr/local/lib/python3.6/dist-packages (from mxnet) (1.18.5)\n",
            "Requirement already satisfied: requests<3,>=2.20.0 in /usr/local/lib/python3.6/dist-packages (from mxnet) (2.23.0)\n",
            "Requirement already satisfied: graphviz<0.9.0,>=0.8.1 in /usr/local/lib/python3.6/dist-packages (from mxnet) (0.8.4)\n",
            "Requirement already satisfied: chardet<4,>=3.0.2 in /usr/local/lib/python3.6/dist-packages (from requests<3,>=2.20.0->mxnet) (3.0.4)\n",
            "Requirement already satisfied: urllib3!=1.25.0,!=1.25.1,<1.26,>=1.21.1 in /usr/local/lib/python3.6/dist-packages (from requests<3,>=2.20.0->mxnet) (1.24.3)\n",
            "Requirement already satisfied: certifi>=2017.4.17 in /usr/local/lib/python3.6/dist-packages (from requests<3,>=2.20.0->mxnet) (2020.6.20)\n",
            "Requirement already satisfied: idna<3,>=2.5 in /usr/local/lib/python3.6/dist-packages (from requests<3,>=2.20.0->mxnet) (2.10)\n"
          ],
          "name": "stdout"
        }
      ]
    },
    {
      "cell_type": "code",
      "metadata": {
        "id": "vPZIRCwOIqOV"
      },
      "source": [
        "from __future__ import print_function\n",
        "import numpy as np\n",
        "import mxnet as mx\n",
        "from mxnet import nd, autograd, gluon\n",
        "import matplotlib.pyplot as plt \n",
        "mx.random.seed(1)"
      ],
      "execution_count": 23,
      "outputs": []
    },
    {
      "cell_type": "code",
      "metadata": {
        "id": "qHCRApNlOP34"
      },
      "source": [
        "data_ctx = mx.cpu()\n",
        "model_ctx = mx.cpu()"
      ],
      "execution_count": 3,
      "outputs": []
    },
    {
      "cell_type": "code",
      "metadata": {
        "id": "wJfsWcHMOd5K"
      },
      "source": [
        "def transform(data, label):\n",
        "    return data.astype(np.float32)/255, label.astype(np.float32)\n",
        "mnist_train = gluon.data.vision.MNIST(train=True, transform=transform).filter(lambda label: label[-1] in [0,1,2,3,4])\n",
        "mnist_test = gluon.data.vision.MNIST(train=False, transform=transform).filter(lambda label: label[-1] in [0,1,2,3,4])"
      ],
      "execution_count": 4,
      "outputs": []
    },
    {
      "cell_type": "code",
      "metadata": {
        "id": "M-S04kPhOgTC"
      },
      "source": [
        "image, label = mnist_train[0]"
      ],
      "execution_count": 20,
      "outputs": []
    },
    {
      "cell_type": "code",
      "metadata": {
        "id": "ph7ouxAbOqcp"
      },
      "source": [
        "num_inputs = 784\n",
        "num_outputs = 5\n",
        "num_examples = len(mnist_train)+len(mnist_test)"
      ],
      "execution_count": 6,
      "outputs": []
    },
    {
      "cell_type": "code",
      "metadata": {
        "id": "aP1J9FH6Os_l"
      },
      "source": [
        "im = mx.nd.tile(image, (1,1,3))"
      ],
      "execution_count": 21,
      "outputs": []
    },
    {
      "cell_type": "code",
      "metadata": {
        "id": "It5k36jeOxmB"
      },
      "source": [
        "batch_size = 128\n",
        "train_data = mx.gluon.data.DataLoader(mnist_train, batch_size, shuffle=True)"
      ],
      "execution_count": 8,
      "outputs": []
    },
    {
      "cell_type": "code",
      "metadata": {
        "id": "m3dFwyCUO4Z9"
      },
      "source": [
        "test_data = mx.gluon.data.DataLoader(mnist_test, batch_size, shuffle=False)"
      ],
      "execution_count": 9,
      "outputs": []
    },
    {
      "cell_type": "code",
      "metadata": {
        "id": "rMRsc1L8O6HJ"
      },
      "source": [
        "W = nd.random_normal(shape=(num_inputs, num_outputs),ctx=model_ctx)\n",
        "b = nd.random_normal(shape=num_outputs,ctx=model_ctx)\n",
        "\n",
        "params = [W, b]"
      ],
      "execution_count": 10,
      "outputs": []
    },
    {
      "cell_type": "code",
      "metadata": {
        "id": "KueGGGrFO75J"
      },
      "source": [
        "for param in params:\n",
        "    param.attach_grad()"
      ],
      "execution_count": 11,
      "outputs": []
    },
    {
      "cell_type": "code",
      "metadata": {
        "id": "s0_8YQB_O-cX"
      },
      "source": [
        "def softmax(y_linear):\n",
        "    exp = nd.exp(y_linear-nd.max(y_linear, axis=1).reshape((-1,1)))\n",
        "    norms = nd.sum(exp, axis=1).reshape((-1,1))\n",
        "    return exp / norms"
      ],
      "execution_count": 12,
      "outputs": []
    },
    {
      "cell_type": "code",
      "metadata": {
        "id": "DqaYZ448PFTN"
      },
      "source": [
        "def net(X):\n",
        "    y_linear = nd.dot(X, W) + b\n",
        "    yhat = softmax(y_linear)\n",
        "    return yhat"
      ],
      "execution_count": 13,
      "outputs": []
    },
    {
      "cell_type": "code",
      "metadata": {
        "id": "gwyh0-oXPH_V"
      },
      "source": [
        "def cross_entropy(yhat, y):\n",
        "    return - nd.sum(y * nd.log(yhat+1e-6))"
      ],
      "execution_count": 14,
      "outputs": []
    },
    {
      "cell_type": "code",
      "metadata": {
        "id": "ksz5hMokPOUW"
      },
      "source": [
        "def SGD(params, lr):\n",
        "    for param in params:\n",
        "        param[:] = param - lr * param.grad"
      ],
      "execution_count": 15,
      "outputs": []
    },
    {
      "cell_type": "code",
      "metadata": {
        "id": "RnL6cV_iPQ4A"
      },
      "source": [
        "def evaluate_accuracy(data_iterator, net):\n",
        "    numerator = 0.\n",
        "    denominator = 0.\n",
        "    for i, (data, label) in enumerate(data_iterator):\n",
        "        data = data.as_in_context(model_ctx).reshape((-1,784))\n",
        "        label = label.as_in_context(model_ctx)\n",
        "        label_one_hot = nd.one_hot(label, 10)\n",
        "        output = net(data)\n",
        "        predictions = nd.argmax(output, axis=1)\n",
        "        numerator += nd.sum(predictions == label)\n",
        "        denominator += data.shape[0]\n",
        "    return (numerator / denominator).asscalar()"
      ],
      "execution_count": 16,
      "outputs": []
    },
    {
      "cell_type": "code",
      "metadata": {
        "id": "WS4mfZ4OPVx0",
        "outputId": "70018e68-5095-4dbe-ca5d-aaa3a7977c6c",
        "colab": {
          "base_uri": "https://localhost:8080/"
        }
      },
      "source": [
        "epochs = 5\n",
        "learning_rate = .005\n",
        "\n",
        "for e in range(epochs):\n",
        "    cumulative_loss = 0\n",
        "    for i, (data, label) in enumerate(train_data):\n",
        "        data = data.as_in_context(model_ctx).reshape((-1,784))\n",
        "        label = label.as_in_context(model_ctx)\n",
        "        label_one_hot = nd.one_hot(label, 5)\n",
        "        with autograd.record():\n",
        "            output = net(data)\n",
        "            loss = cross_entropy(output, label_one_hot)\n",
        "        loss.backward()\n",
        "        SGD(params, learning_rate)\n",
        "        cumulative_loss += nd.sum(loss).asscalar()\n",
        "\n",
        "\n",
        "    test_accuracy = evaluate_accuracy(test_data, net)\n",
        "    train_accuracy = evaluate_accuracy(train_data, net)\n",
        "    print(\"Epoch %s. Loss: %s, Train_acc %s, Test_acc %s\" % (e, cumulative_loss/num_examples, train_accuracy, test_accuracy))"
      ],
      "execution_count": 17,
      "outputs": [
        {
          "output_type": "stream",
          "text": [
            "Epoch 0. Loss: 0.7228378805561101, Train_acc 0.93737745, Test_acc 0.9466822\n",
            "Epoch 1. Loss: 0.2478171465825902, Train_acc 0.95015687, Test_acc 0.95680094\n",
            "Epoch 2. Loss: 0.20657477905479332, Train_acc 0.955419, Test_acc 0.96069276\n",
            "Epoch 3. Loss: 0.1829148658740632, Train_acc 0.95862204, Test_acc 0.96322244\n",
            "Epoch 4. Loss: 0.1677396100820022, Train_acc 0.9604523, Test_acc 0.96205485\n"
          ],
          "name": "stdout"
        }
      ]
    },
    {
      "cell_type": "code",
      "metadata": {
        "id": "2fHZ_4U2PchY",
        "outputId": "685eccbe-251a-4062-a1fa-863ab4c17baf",
        "colab": {
          "base_uri": "https://localhost:8080/",
          "height": 332
        }
      },
      "source": [
        "def model_predict(net,data):\n",
        "    output = net(data)\n",
        "    return nd.argmax(output, axis=1)\n",
        "\n",
        "# make a prediction\n",
        "sample_data = mx.gluon.data.DataLoader(mnist_test, 1, shuffle=True)\n",
        "for i, (data, label) in enumerate(sample_data):\n",
        "    data = data.as_in_context(model_ctx)\n",
        "    print(data.shape)\n",
        "    im = nd.transpose(data,(1,0,2,3))\n",
        "    im = nd.reshape(im,(28,1*28,1))\n",
        "    imtiles = nd.tile(im, (1,1,3))\n",
        "\n",
        "    plt.imshow(imtiles.asnumpy())\n",
        "    plt.show()\n",
        "    pred=model_predict(net,data.reshape((-1,784)))\n",
        "    print('prediction:', pred[-1])\n",
        "    break"
      ],
      "execution_count": 30,
      "outputs": [
        {
          "output_type": "stream",
          "text": [
            "(1, 28, 28, 1)\n"
          ],
          "name": "stdout"
        },
        {
          "output_type": "display_data",
          "data": {
            "image/png": "[encoded data removed]",
            "text/plain": [
              "<Figure size 432x288 with 1 Axes>"
            ]
          },
          "metadata": {
            "tags": [],
            "needs_background": "light"
          }
        },
        {
          "output_type": "stream",
          "text": [
            "prediction: \n",
            "[3.]\n",
            "<NDArray 1 @cpu(0)>\n"
          ],
          "name": "stdout"
        }
      ]
    },
    {
      "cell_type": "code",
      "metadata": {
        "id": "CGxMWJS4hnLa"
      },
      "source": [
        "def compute_confusion_matrix(true, pred):\n",
        "  K = len(np.unique(true)) # Number of classes \n",
        "  result = np.zeros((K, K))\n",
        "  for i in range(len(true)):\n",
        "    result[true[i]][pred[i]] += 1\n",
        "  return result"
      ],
      "execution_count": null,
      "outputs": []
    }
  ]
}